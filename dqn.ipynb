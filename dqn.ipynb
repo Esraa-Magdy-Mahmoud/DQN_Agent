{
  "nbformat": 4,
  "nbformat_minor": 0,
  "metadata": {
    "colab": {
      "name": "Untitled0.ipynb",
      "version": "0.3.2",
      "provenance": [],
      "include_colab_link": true
    },
    "kernelspec": {
      "name": "python3",
      "display_name": "Python 3"
    }
  },
  "cells": [
    {
      "cell_type": "markdown",
      "metadata": {
        "id": "view-in-github",
        "colab_type": "text"
      },
      "source": [
        "<a href=\"https://colab.research.google.com/github/Esraa-Magdy-Mahmoud/DQN_Agent/blob/master/dqn.ipynb\" target=\"_parent\"><img src=\"https://colab.research.google.com/assets/colab-badge.svg\" alt=\"Open In Colab\"/></a>"
      ]
    },
    {
      "metadata": {
        "id": "sNYjg63HgmXB",
        "colab_type": "code",
        "colab": {}
      },
      "cell_type": "code",
      "source": [
        "import tensorflow as tf\n",
        "import numpy as np\n",
        "#from ple.games.flappybird import FlappyBird\n",
        "#from ple import PLE\n",
        "import numpy as np\n",
        "from skimage.transform import resize\n",
        "from skimage.color import rgb2gray \n",
        "import scipy\n",
        "%matplotlib inline\n",
        "import matplotlib\n",
        "import matplotlib.pyplot as plt"
      ],
      "execution_count": 0,
      "outputs": []
    },
    {
      "metadata": {
        "id": "MNPf-P-fbq2v",
        "colab_type": "code",
        "colab": {}
      },
      "cell_type": "code",
      "source": [
        "class dqn_learner:\n",
        "    def __init__(self,obs_size , action_size, learning_rate):\n",
        "        self.state_size_ = obs_size\n",
        "        self.action_size_ = action_size\n",
        "        self.learning_rate_ = learning_rate\n",
        "        \n",
        "        with tf.variable_scope('Q_vals',reuse=True):\n",
        "            self.input_layer = tf.placeholder(tf.float32, [None, *self.state_size_], name=\"input_layer\")\n",
        "            \n",
        "            self.layer1_out = tf.layers.conv2d(inputs=input_layer,filters=32,kernel_size=3,stride=1,\n",
        "                                              padding=\"same\",\n",
        "                                              activation=tf.nn.relu)\n",
        "            self.layer2_out = tf.layers.conv2d(inputs=layer1_out,filters=32,kernel_size=3,stride=1,\n",
        "                                              padding=\"same\",\n",
        "                                              activation=tf.nn.relu)\n",
        "            self.layer3_out = tf.layers.conv2d(inputs=layer2_out,filters=32,kernel_size=3,stride=1,\n",
        "                                              padding=\"same\",\n",
        "                                              activation=tf.nn.relu)\n",
        "            self.layer3_out=tf.contrib.layers.flatten(self.layer3_out)\n",
        "            self.FC1_out  =  tf.contrib.layers.fully_connected(self.layer3_out, 256, tf.nn.relu)\n",
        "            self.final_out = tf.contrib.layers.fully_connected(self.FC1_out, self.action_size_, tf.nn.relu)\n",
        "            \n",
        "            self.actions_  = tf.placeholder(tf.float32, [None], name=\"actions\")\n",
        "            one_hot_actions = tf.one_hot(self.actions_, self.action_size_)\n",
        "            self.Current_Q = tf.reduce_sum(tf.multiply(self.final_out,one_hot_actions))\n",
        "            self.target_Q =  tf.placeholder(tf.float32, [None], name=\"targ_Q\")\n",
        "            \n",
        "            self.cost = tf.reduce_mean(tf.square(self.target_Q - self.Current_Q))\n",
        "            \n",
        "            self.opt = GradientDescentOptimizer(learning_rate=0.01)\n",
        "            self.opt_op = opt.minimize(cost)   "
      ],
      "execution_count": 0,
      "outputs": []
    },
    {
      "metadata": {
        "id": "_tdrPr9rb04F",
        "colab_type": "code",
        "colab": {}
      },
      "cell_type": "code",
      "source": [
        "class Exp_Memory:\n",
        "    def __init__(self,memory_size):\n",
        "        self.mem = deque(memory_size)\n",
        "    def sample_exp(self,sample_size):\n",
        "        sample = self.mem[np.random.choice(len(self.mem), sample_size, replace=False)] \n",
        "        return sample\n",
        "    def add_exp(self,new_exp):\n",
        "        self.mem.append(new_exp)\n",
        "        return self.mem"
      ],
      "execution_count": 0,
      "outputs": []
    },
    {
      "metadata": {
        "id": "uRqGuf93r9T3",
        "colab_type": "code",
        "colab": {}
      },
      "cell_type": "code",
      "source": [
        ""
      ],
      "execution_count": 0,
      "outputs": []
    },
    {
      "metadata": {
        "id": "l54puFQpb2HJ",
        "colab_type": "code",
        "colab": {}
      },
      "cell_type": "code",
      "source": [
        ""
      ],
      "execution_count": 0,
      "outputs": []
    }
  ]
}